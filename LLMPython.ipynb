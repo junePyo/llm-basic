{
  "nbformat": 4,
  "nbformat_minor": 0,
  "metadata": {
    "colab": {
      "provenance": [],
      "gpuType": "T4",
      "authorship_tag": "ABX9TyPQC+rTML3xEdqlZCQnshuO",
      "include_colab_link": true
    },
    "kernelspec": {
      "name": "python3",
      "display_name": "Python 3"
    },
    "language_info": {
      "name": "python"
    },
    "accelerator": "GPU"
  },
  "cells": [
    {
      "cell_type": "markdown",
      "metadata": {
        "id": "view-in-github",
        "colab_type": "text"
      },
      "source": [
        "<a href=\"https://colab.research.google.com/github/junePyo/llm-basic/blob/main/LLMPython.ipynb\" target=\"_parent\"><img src=\"https://colab.research.google.com/assets/colab-badge.svg\" alt=\"Open In Colab\"/></a>"
      ]
    },
    {
      "cell_type": "code",
      "source": [
        "import torch\n",
        "device = 'cuda' if torch.cuda.is_available() else 'cpu'\n",
        "print(device)\n",
        "\n",
        "# hyperparameters\n",
        "block_size = 8\n",
        "batch_size = 4"
      ],
      "metadata": {
        "colab": {
          "base_uri": "https://localhost:8080/"
        },
        "id": "z45kn1dU_Qo_",
        "outputId": "caf13ae0-d175-4093-e265-ccbe4e2b70cf"
      },
      "execution_count": null,
      "outputs": [
        {
          "output_type": "stream",
          "name": "stdout",
          "text": [
            "cuda\n"
          ]
        }
      ]
    },
    {
      "cell_type": "code",
      "execution_count": null,
      "metadata": {
        "id": "AJksQXrb6Hqs",
        "colab": {
          "base_uri": "https://localhost:8080/"
        },
        "outputId": "c78ffb17-6510-4d1b-e250-6d7e7f88dbe8"
      },
      "outputs": [
        {
          "output_type": "stream",
          "name": "stdout",
          "text": [
            "['\\n', ' ', '!', '\"', '&', \"'\", '(', ')', '*', ',', '-', '.', '0', '1', '8', '9', ':', ';', '?', 'A', 'B', 'C', 'D', 'E', 'F', 'G', 'H', 'I', 'J', 'K', 'L', 'M', 'N', 'O', 'P', 'Q', 'R', 'S', 'T', 'U', 'V', 'W', 'X', 'Y', 'Z', '[', ']', '_', 'a', 'b', 'c', 'd', 'e', 'f', 'g', 'h', 'i', 'j', 'k', 'l', 'm', 'n', 'o', 'p', 'q', 'r', 's', 't', 'u', 'v', 'w', 'x', 'y', 'z']\n",
            "74\n"
          ]
        }
      ],
      "source": [
        "with open('wizard_of_oz.txt', 'r', encoding='utf-8') as f:\n",
        "  text = f.read()\n",
        "\n",
        "chars = sorted(set(text))\n",
        "print(chars)\n",
        "print(len(chars))"
      ]
    },
    {
      "cell_type": "code",
      "source": [
        "string_to_int = { ch: i for i, ch in enumerate(chars) }\n",
        "int_to_string = { i:ch for i, ch in enumerate(chars) }\n",
        "encode = lambda s: [string_to_int[c] for c in s]\n",
        "decode = lambda l: ''.join([int_to_string[i] for i in l])\n",
        "\n",
        "# encoded = encode('hello')\n",
        "# print(encoded)\n",
        "# decoded = decode(encoded)\n",
        "# print(decoded)\n",
        "\n",
        "data = torch.tensor(encode(text), dtype=torch.long)\n",
        "print(data[:100])"
      ],
      "metadata": {
        "colab": {
          "base_uri": "https://localhost:8080/"
        },
        "id": "Bpl7Gy7e7DsN",
        "outputId": "326a1c97-a4f6-444a-b70b-5893778f7ac4"
      },
      "execution_count": null,
      "outputs": [
        {
          "output_type": "stream",
          "name": "stdout",
          "text": [
            "tensor([24, 62, 59, 58,  1, 59, 62, 65, 52,  9,  1, 59, 52, 54, 52, 61, 51, 66,\n",
            "         9,  1, 60, 72, 67, 55, 66,  1, 48, 61, 51,  1, 53, 48, 56, 65, 72,  1,\n",
            "        67, 48, 59, 52, 66,  1, 55, 48, 69, 52,  1, 53, 62, 59, 59, 62, 70, 52,\n",
            "        51,  1, 50, 55, 56, 59, 51, 55, 62, 62, 51,  0, 67, 55, 65, 62, 68, 54,\n",
            "        55,  1, 67, 55, 52,  1, 48, 54, 52, 66,  9,  1, 53, 62, 65,  1, 52, 69,\n",
            "        52, 65, 72,  1, 55, 52, 48, 59, 67, 55])\n"
          ]
        }
      ]
    },
    {
      "cell_type": "code",
      "source": [
        "# validation and training splits\n",
        "# use the entire text document and only train on that\n",
        "n = int(0.8*len(data))\n",
        "train_data = data[:n]\n",
        "val_data = data[n:]"
      ],
      "metadata": {
        "id": "ydJsUgVV641c"
      },
      "execution_count": null,
      "outputs": []
    },
    {
      "cell_type": "code",
      "source": [
        "x = train_data[:block_size]\n",
        "y = train_data[1:block_size+1]\n",
        "\n",
        "for t in range(block_size):\n",
        "  context = x[:t+1]\n",
        "  target = y[t]\n",
        "  print(\"when input is \", context, \"target is \", target)"
      ],
      "metadata": {
        "colab": {
          "base_uri": "https://localhost:8080/"
        },
        "id": "FGfIy2uEHmY8",
        "outputId": "6787ed2d-9a6c-4efa-ea68-027a5f3a27e7"
      },
      "execution_count": null,
      "outputs": [
        {
          "output_type": "stream",
          "name": "stdout",
          "text": [
            "when input is  tensor([24]) target is  tensor(62)\n",
            "when input is  tensor([24, 62]) target is  tensor(59)\n",
            "when input is  tensor([24, 62, 59]) target is  tensor(58)\n",
            "when input is  tensor([24, 62, 59, 58]) target is  tensor(1)\n",
            "when input is  tensor([24, 62, 59, 58,  1]) target is  tensor(59)\n",
            "when input is  tensor([24, 62, 59, 58,  1, 59]) target is  tensor(62)\n",
            "when input is  tensor([24, 62, 59, 58,  1, 59, 62]) target is  tensor(65)\n",
            "when input is  tensor([24, 62, 59, 58,  1, 59, 62, 65]) target is  tensor(52)\n"
          ]
        }
      ]
    }
  ]
}